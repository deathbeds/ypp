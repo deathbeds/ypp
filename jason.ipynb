{
 "cells": [
  {
   "cell_type": "code",
   "execution_count": 1,
   "metadata": {},
   "outputs": [],
   "source": [
    "    import collections, abc, io, IPython, functools\n",
    "\n",
    "    if __name__ == '__main__': \n",
    "        get_ipython = IPython.get_ipython\n",
    "    __all__ = \"Jay J Json D Dict L List S String Context Schema Patch T Toml\".split()"
   ]
  },
  {
   "cell_type": "code",
   "execution_count": 2,
   "metadata": {},
   "outputs": [],
   "source": [
    "    get_data = lambda x: get_data(x.data) if hasattr(x, 'data') else x"
   ]
  },
  {
   "cell_type": "code",
   "execution_count": 3,
   "metadata": {},
   "outputs": [],
   "source": [
    "    list_types = list, collections.UserList\n",
    "    str_types = str, collections.UserString\n",
    "    dict_types = dict, collections.UserDict"
   ]
  },
  {
   "cell_type": "code",
   "execution_count": 4,
   "metadata": {},
   "outputs": [],
   "source": [
    "    class Stype(abc.ABCMeta):\n",
    "        \"\"\"Base class for short shortened string formatters.\"\"\"\n",
    "        def __mod__(Stype, str): return Jay.load(Stype.load(str))\n",
    "        format = __call__ = __mod__"
   ]
  },
  {
   "cell_type": "code",
   "execution_count": 5,
   "metadata": {},
   "outputs": [],
   "source": [
    "    class Jay(metaclass=Stype):\n",
    "        def load(object):\n",
    "            object = get_data(object)\n",
    "            if isinstance(object, (dict, collections.UserDict)): return D(object)\n",
    "            if isinstance(object, (list, collections.UserList)): return L(object)        \n",
    "            if isinstance(object, (str, collections.UserString)): return S(object)  \n",
    "            return object\n",
    "    J = Jay"
   ]
  },
  {
   "cell_type": "code",
   "execution_count": 6,
   "metadata": {},
   "outputs": [],
   "source": [
    "    class Json(metaclass=Stype): \n",
    "        \"\"\">>> Json%'{\"a\": \"b\"}'\n",
    "    {'a': 'b'}\n",
    "    \"\"\"\n",
    "        load = __import__('json').loads"
   ]
  },
  {
   "cell_type": "code",
   "execution_count": 7,
   "metadata": {},
   "outputs": [],
   "source": [
    "    class Csv(metaclass=Stype): \n",
    "        \"\"\">>> Csv('''a, b, c\n",
    "    ... 1, 2, 3''')\n",
    "    [['a', ' b', ' c'], ['1', ' 2', ' 3']]\n",
    "    \"\"\"\n",
    "        def load(object, *, delimiter=','):\n",
    "            import csv\n",
    "            if isinstance(object, tuple):\n",
    "                delimiter, object = object \n",
    "            return L(list(csv.reader(io.StringIO(object), delimiter=delimiter)))"
   ]
  },
  {
   "cell_type": "code",
   "execution_count": 8,
   "metadata": {},
   "outputs": [],
   "source": [
    "    def cfg(str):\n",
    "        parser = __import__('configparser').ConfigParser()\n",
    "        parser.read_string(str)\n",
    "        return {section: dict(parser[section]) for section in parser.sections()}\n",
    "\n",
    "    class Cfg(metaclass=Stype): \n",
    "        \"\"\">>> Cfg%'[header]\\\\na: b'\n",
    "    {'header': {'a': 'b'}}\n",
    "    \"\"\"\n",
    "        load = cfg"
   ]
  },
  {
   "cell_type": "code",
   "execution_count": 9,
   "metadata": {},
   "outputs": [],
   "source": [
    "    class Object:\n",
    "        def __getitem__(O, object):\n",
    "            return Jay(__import__('jsonpointer').resolve_pointer(O.data, object))        \n",
    "                \n",
    "        def __add__(O, object, *, op='add'):\n",
    "            if not isinstance(object, Patch):\n",
    "                object = Patch([\n",
    "                    {'op': op, 'path': key, **({} if op == 'replace' else {'value': value} )}\n",
    "                    for key, value in (object.items() if isinstance(object, dict) else zip(object, ['']*len(object)))\n",
    "                ])\n",
    "            return object(O.data)\n",
    "        \n",
    "        __floordiv__ = functools.partialmethod(__add__, op='replace')\n",
    "        \n",
    "        __sub__ = functools.partialmethod(__add__, op='remove')\n",
    "        \n",
    "        def __or__(O, object):\n",
    "            return __import__('jsondiff').diff(O.data, object)\n",
    "        \n",
    "        def __and__(O, object):\n",
    "            O.update({'@context': object})\n",
    "            return O\n",
    "        \n",
    "        __truediv__ = __floordiv__\n",
    "\n",
    "        \n",
    "        def __matmul__(O, object):\n",
    "            return Context(object) @ O.data\n",
    "    \n",
    "        def __mod__(O, object):\n",
    "            return Context(object) % O.data\n",
    "                \n",
    "        def __call__(O, object):\n",
    "            return Schema(object)(O.data)\n",
    "        \n",
    "        def __setitem__(J, path, value):\n",
    "            if path.startswith('/'):\n",
    "                return J + {path: value}\n",
    "            return super().__setitem__(path, value)\n",
    "        \n",
    "            \n",
    "        def __wrapped__(O): raise AttributeError('__wrapped__')\n",
    "            \n",
    "        def __pos__(O): \n",
    "            data = dict(O.data)\n",
    "            return Context(data.pop('@context')) @ data     \n",
    "        \n",
    "        def __neg__(O): \n",
    "            data = dict(O.data)\n",
    "            return Context(data.pop('@context')) % data\n",
    "        \n",
    "    O = Object"
   ]
  },
  {
   "cell_type": "code",
   "execution_count": 10,
   "metadata": {},
   "outputs": [],
   "source": [
    "    class String(O, collections.UserString):\n",
    "        \"\"\">>> s = S(\"foo\")\n",
    "    >>> type(s) # doctest: +ELLIPSIS\n",
    "    <...S...>\n",
    "\n",
    "    >>> s[\"/1\"]\n",
    "    'o'\n",
    "    \n",
    "    \"\"\"\n",
    "    S = String"
   ]
  },
  {
   "cell_type": "code",
   "execution_count": 11,
   "metadata": {},
   "outputs": [],
   "source": [
    "    class List(O, collections.UserList): \n",
    "        \"\"\">>> l = L(['a', 'foo'])\n",
    "    >>> type(l) # doctest: +ELLIPSIS\n",
    "    <...L...>\n",
    "    >>> l['/0']\n",
    "    'a'\n",
    "    >>> l['/1/1']\n",
    "    'o'\n",
    "    >>> l + {'/2': 3}\n",
    "    ['a', 'foo', 3]\n",
    "\n",
    "    >>> L([1,2]) | [1]\n",
    "    {delete: [1]}\n",
    "    >>> L([1,2])-{'/1'}\n",
    "    [1]\n",
    "    \"\"\"\n",
    "    L = List"
   ]
  },
  {
   "cell_type": "code",
   "execution_count": 12,
   "metadata": {},
   "outputs": [],
   "source": [
    "    class Patch(__import__('jsonpatch').JsonPatch, L): \n",
    "        \"\"\">>> l = L(['a', 'foo'])\n",
    "    >>> type(l) # doctest: +ELLIPSIS\n",
    "    <...L...>\n",
    "    >>> l['/0']\n",
    "    'a'\n",
    "    >>> l['/1/1']\n",
    "    'o'\n",
    "    \"\"\"\n",
    "        def __call__(Patch, object):\n",
    "            return Jay(Patch.apply(object))\n",
    "        @property\n",
    "        def data(Patch): return Patch.patch"
   ]
  },
  {
   "cell_type": "code",
   "execution_count": 13,
   "metadata": {},
   "outputs": [],
   "source": [
    "    class Dict(O, collections.UserDict):\n",
    "        \"\"\">>> d = Json%'{\"a\": [1, {\"b\": [\"foo\", 3, \"bar\"]}]}'\n",
    "    >>> d\n",
    "    {'a': [1, {'b': ['foo', 3, 'bar']}]}\n",
    "    >>> d += {'/c': ['baz', None]}\n",
    "    >>> d\n",
    "    {'a': [1, {'b': ['foo', 3, 'bar']}], 'c': ['baz', None]}\n",
    "    >>> d - {'/a', '/c/1'}\n",
    "    {'c': ['baz']}\n",
    "    >>> (d + {'/g': 'testing'}) @ {'g': 'https://foo'}\n",
    "    [{'https://foo': [{'@value': 'testing'}]}]\n",
    "    >>> d = (d + {'/g': 'testing'}) & {'g': 'https://foo'}\n",
    "    >>> +d\n",
    "    [{'https://foo': [{'@value': 'testing'}]}]\n",
    "    \"\"\"\n",
    "        def __deepcopy__(D, state):\n",
    "            return type(D)(D.data)\n",
    "        \n",
    "    D = Dict"
   ]
  },
  {
   "cell_type": "code",
   "execution_count": 14,
   "metadata": {},
   "outputs": [],
   "source": [
    "    class Schema(D):\n",
    "        \"\"\">>> Schema({'type': 'string'})('asdf')\n",
    "    'asdf'\n",
    "    \n",
    "    >>> with __import__('pytest').raises(__import__('jsonschema').ValidationError): \n",
    "    ...     Schema({'type': 'string'})(1)\n",
    "    \"\"\"\n",
    "        def __call__(Schema, object):\n",
    "            __import__('jsonschema').validate(object, Schema.data)\n",
    "            return object"
   ]
  },
  {
   "cell_type": "code",
   "execution_count": 15,
   "metadata": {},
   "outputs": [],
   "source": [
    "    class Context(D):\n",
    "        \"\"\">>> context = Context({\"gh\": \"https://github.com\"})\n",
    "    >>> context@'gh'\n",
    "    'https://github.com'\n",
    "    >>> context@{'gh': 'deathbeds'}\n",
    "    [{'https://github.com': [{'@value': 'deathbeds'}]}]\n",
    "    \"\"\"\n",
    "\n",
    "        def __mod__(Context, object):\n",
    "            return D(__import__('pyld').jsonld.compact(object, Context.data))\n",
    "        \n",
    "        \n",
    "        def __matmul__(Context, object):\n",
    "            if isinstance(object, str):                \n",
    "                return Context.expand(object, Context.data)\n",
    "            object.update({'@context': Context.data.get('@context', Context.data)})\n",
    "            return L(__import__('pyld').jsonld.expand(object))\n",
    "\n",
    "        @staticmethod\n",
    "        def expand(str, ctx):\n",
    "            \"\"\">>> Context.expand(\"gh\", {\"gh\": \"https://github.com\"})\n",
    "    'https://github.com'\n",
    "    >>> Context.expand('q', {})\n",
    "    'q'\n",
    "    \"\"\"\n",
    "            object = __import__('pyld').jsonld.expand({str: '', '@context': ctx})\n",
    "            if object: return next(iter(object[0]))\n",
    "            return str"
   ]
  },
  {
   "cell_type": "code",
   "execution_count": 16,
   "metadata": {},
   "outputs": [],
   "source": [
    "    class Yaml(metaclass=Stype): \n",
    "        \"\"\">>> Y%'[a, b]'\n",
    "    ['a', 'b']\n",
    "    >>> Y%'{a: b}'       \n",
    "    {'a': 'b'}\n",
    "    \"\"\"\n",
    "        def load(str): \n",
    "            import ruamel\n",
    "            return ruamel.yaml.load(io.StringIO(str), Loader=ruamel.yaml.Loader)\n",
    "            \n",
    "    Y = Yaml"
   ]
  },
  {
   "cell_type": "code",
   "execution_count": 17,
   "metadata": {},
   "outputs": [],
   "source": [
    "    class Toml(metaclass=Stype): \n",
    "        \"\"\">>> T%'title = \"TOML Example\"'\n",
    "    {'title': 'TOML Example'}\n",
    "    \"\"\"\n",
    "        def load(str): return __import__('toml').loads(str)\n",
    "    T = Toml"
   ]
  },
  {
   "cell_type": "code",
   "execution_count": 18,
   "metadata": {},
   "outputs": [
    {
     "data": {
      "image/svg+xml": [
       "<svg height=\"8pt\" viewBox=\"0.00 0.00 8.00 8.00\" width=\"8pt\" xmlns=\"http://www.w3.org/2000/svg\" xmlns:xlink=\"http://www.w3.org/1999/xlink\">\n",
       "<g class=\"graph\" id=\"graph0\" transform=\"scale(1 1) rotate(0) translate(4 4)\">\n",
       "<title>classes</title>\n",
       "<polygon fill=\"white\" points=\"-4,4 -4,-4 4,-4 4,4 -4,4\" stroke=\"none\"/>\n",
       "</g>\n",
       "</svg>"
      ],
      "text/plain": [
       "<IPython.core.display.SVG object>"
      ]
     },
     "metadata": {},
     "output_type": "display_data"
    }
   ],
   "source": [
    "    if __name__ == '__main__':\n",
    "        import pidgin, nbconvert, black, IPython\n",
    "        display = IPython.display.display\n",
    "        with open('jason.py', 'w') as f:\n",
    "            f.write(black.format_str(nbconvert.PythonExporter(config={\n",
    "                'TemplateExporter': {'exclude_input_prompt': True}\n",
    "            }, preprocessors=[pidgin.publishing.TanglePreProcessor()]).from_filename('jason.ipynb')[0], mode=black.FileMode()))\n",
    "            if 0:\n",
    "                with IPython.utils.capture.capture_output(stderr=False, stdout=False):\n",
    "                    !pyreverse --show-builtin  --module-names=y -osvg jason \n",
    "            display(IPython.display.SVG('classes.svg'))\n",
    "            with IPython.utils.capture.capture_output():\n",
    "                !isort jason.py\n",
    "        if 10:\n",
    "            !pyflakes jason.py\n",
    "        __import__('doctest').testmod()"
   ]
  }
 ],
 "metadata": {
  "kernelspec": {
   "display_name": "p6",
   "language": "python",
   "name": "p6"
  },
  "language_info": {
   "codemirror_mode": {
    "name": "ipython",
    "version": 3
   },
   "file_extension": ".py",
   "mimetype": "text/x-python",
   "name": "python",
   "nbconvert_exporter": "python",
   "pygments_lexer": "ipython3",
   "version": "3.6.8"
  }
 },
 "nbformat": 4,
 "nbformat_minor": 2
}
