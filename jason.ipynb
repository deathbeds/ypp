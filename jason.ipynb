{
 "cells": [
  {
   "cell_type": "markdown",
   "metadata": {},
   "source": [
    "`jason` is a symbollic language for the JSON family.  Currently, `jason` provides methods for \n",
    "converting strings in different formats (eg. Toml, Yaml, Csv, Graphviz) and symbollic operations for:\n",
    "\n",
    "* jsonpatch\n",
    "* jsonpointer\n",
    "* jsonld\n",
    "* jsondiff\n",
    "* jsonschema"
   ]
  },
  {
   "cell_type": "code",
   "execution_count": 1,
   "metadata": {},
   "outputs": [],
   "source": [
    "    import abc, io, IPython, functools\n",
    "    __all__ = \"Jay\", \"J\", \"Json\", \"D\", \"Dict\", \"L\", \"List\", \"S\", \"String\", \"Csv\", \"Context\", \"Schema\", \"T\", \"Toml\", \"Y\", \"Yaml\", \"Graphviz\", \"G\"\n",
    "    if __name__ == '__main__': \n",
    "        get_ipython = IPython.get_ipython\n",
    "    "
   ]
  },
  {
   "cell_type": "code",
   "execution_count": 2,
   "metadata": {},
   "outputs": [],
   "source": [
    "    class Jay(abc.ABCMeta):\n",
    "        \"\"\"Base class for short shortened string formatters.\"\"\"\n",
    "        def __mod__(Jay, object, callable=None): \n",
    "            object = (callable or Jay.load)(object)\n",
    "            if not isinstance(object, J):\n",
    "                if isinstance(object, dict): return D(object)\n",
    "                if isinstance(object, list): return L(object)        \n",
    "                if isinstance(object, str): return S(object)\n",
    "            return object\n",
    "        format = __call__ = __mod__\n",
    "        @staticmethod\n",
    "        def load(object): return object\n",
    "    class J(metaclass=Jay): ..."
   ]
  },
  {
   "cell_type": "code",
   "execution_count": 3,
   "metadata": {},
   "outputs": [],
   "source": [
    "    class Echo(J):\n",
    "        '''echo \"{}\"'''\n",
    "        @classmethod\n",
    "        def load(Bang, str):\n",
    "            return '\\n'.join(IPython.get_ipython().system(Bang.__doc__.splitlines()[0].format(str)))"
   ]
  },
  {
   "cell_type": "code",
   "execution_count": 4,
   "metadata": {},
   "outputs": [],
   "source": [
    "    class Coffee(Echo): \n",
    "        \"\"\"coffee -pbe \"{}\"\n",
    "        \n",
    "    If coffeescript is installed.\n",
    "        \"\"\"\n",
    "    C = Coffee"
   ]
  },
  {
   "cell_type": "code",
   "execution_count": 5,
   "metadata": {},
   "outputs": [],
   "source": [
    "    class Json(J): \n",
    "        \"\"\">>> Json%'{\"a\": \"b\"}'\n",
    "    {'a': 'b'}\n",
    "    \"\"\"\n",
    "        load = staticmethod(__import__('json').loads)     "
   ]
  },
  {
   "cell_type": "code",
   "execution_count": 6,
   "metadata": {},
   "outputs": [],
   "source": [
    "    class Csv(J): \n",
    "        \"\"\">>> Csv('''a,b,c\n",
    "    ... 1,2,3''')\n",
    "    [['a', 'b', 'c'], ['1', '2', '3']]\n",
    "    >>> Csv%(' ','''a b c\n",
    "    ... 1 2 3''')\n",
    "    [['a', 'b', 'c'], ['1', '2', '3']]\n",
    "    \"\"\"\n",
    "    \n",
    "        @staticmethod\n",
    "        def load(object, *, delimiter=','):\n",
    "            import csv\n",
    "            if isinstance(object, tuple):\n",
    "                delimiter, object = object \n",
    "            return L(list(csv.reader(io.StringIO(object), delimiter=delimiter)))"
   ]
  },
  {
   "cell_type": "code",
   "execution_count": 7,
   "metadata": {},
   "outputs": [],
   "source": [
    "    def cfg(str):\n",
    "        parser = __import__('configparser').ConfigParser()\n",
    "        parser.read_string(str)\n",
    "        return {section: dict(parser[section]) for section in parser.sections()}\n",
    "\n",
    "    class Cfg(J): \n",
    "        \"\"\">>> Cfg%'[header]\\\\na: b'\n",
    "    {'header': {'a': 'b'}}\n",
    "    \"\"\"\n",
    "        load = staticmethod(cfg)"
   ]
  },
  {
   "cell_type": "code",
   "execution_count": 8,
   "metadata": {},
   "outputs": [],
   "source": [
    "    class Object:\n",
    "        def __getitem__(O, object):\n",
    "            if isinstance(object, str) and object.startswith('/'):\n",
    "                return J(__import__('jsonpointer').resolve_pointer(O, object))        \n",
    "            return super().__getitem__(object)\n",
    "                \n",
    "        def __attr__(O, object, *, attr=None, op='add', in_place=False):\n",
    "            import jsonpatch\n",
    "            if not isinstance(object, jsonpatch.JsonPatch):\n",
    "                if isinstance(object, str):\n",
    "                    if isinstance(O, str): return S(getattr(super(), F\"__{attr}__\")(object))\n",
    "                    object = object.split()\n",
    "                if isinstance(object, list): object = dict(zip(object, [None]*len(object)))\n",
    "                object = jsonpatch.apply_patch(O, [\n",
    "                    {'op': op, 'path': [\"/\", \"\"][key.startswith('/')]+key, **({} if op == 'replace' else {'value': value} )}\n",
    "                    for key, value in (object.items() if isinstance(object, dict) else zip(object, [None]*len(object)))\n",
    "                ], in_place=in_place)\n",
    "            return object\n",
    "        \n",
    "        \n",
    "        __add__ = functools.partialmethod(__attr__, attr= 'add', in_place=True)\n",
    "        __iadd__ = functools.partialmethod(__attr__, attr= 'iadd', in_place=True)\n",
    "        __sub__ = functools.partialmethod(__attr__, attr= 'sub', op='remove')\n",
    "        __isub__ = functools.partialmethod(__attr__, attr= 'isub', op='remove', in_place=True)        \n",
    "        __truediv__ = functools.partialmethod(__attr__, attr= 'floordiv', op='replace')\n",
    "        __itruediv__ = functools.partialmethod(__attr__, attr= 'ifloordiv', op='replace', in_place=True)\n",
    "        \n",
    "        def __or__(O, object): return __import__('jsondiff').diff(O, object)\n",
    "        \n",
    "        def __and__(O, object): return O.update({'@context': object}) or O\n",
    "        \n",
    "        def __matmul__(O, object): return Context(object) @ O\n",
    "    \n",
    "        def __mod__(O, object): return Context(object) % O\n",
    "                \n",
    "        def __call__(O, object): return Schema(object)(O)\n",
    "        \n",
    "        def __setitem__(O, path, value):\n",
    "            if path.startswith('/'):\n",
    "                O += {path: value}\n",
    "                return O\n",
    "            return super().__setitem__(path, value)\n",
    "            \n",
    "        def __pos__(O): \n",
    "            data = dict(O)\n",
    "            return Context(data.pop('@context')) @ data     \n",
    "        \n",
    "        def __neg__(O): \n",
    "            data = dict(O)\n",
    "            return Context(data.pop('@context')) % data\n",
    "        \n",
    "    O = Object"
   ]
  },
  {
   "cell_type": "code",
   "execution_count": 9,
   "metadata": {},
   "outputs": [],
   "source": [
    "    class String(O, str):\n",
    "        \"\"\">>> s = S(\"foo\")\n",
    "    >>> type(s) # doctest: +ELLIPSIS\n",
    "    <...S...>\n",
    "\n",
    "    >>> s[\"/1\"]\n",
    "    'o'\n",
    "    \n",
    "    \"\"\"\n",
    "    S = String"
   ]
  },
  {
   "cell_type": "code",
   "execution_count": 10,
   "metadata": {},
   "outputs": [],
   "source": [
    "    class List(O, list): \n",
    "        \"\"\">>> l = L(['a', 'foo'])\n",
    "    >>> type(l) # doctest: +ELLIPSIS\n",
    "    <...L...>\n",
    "    >>> l['/0']\n",
    "    'a'\n",
    "    >>> l['/1/1']\n",
    "    'o'\n",
    "    >>> l + {'/2': 3}\n",
    "    ['a', 'foo', 3]\n",
    "\n",
    "    >>> L([1,2]) | [1]\n",
    "    {delete: [1]}\n",
    "    >>> L([1,2])-{'/1'}\n",
    "    [1]\n",
    "    \"\"\"\n",
    "    L = List"
   ]
  },
  {
   "cell_type": "code",
   "execution_count": 11,
   "metadata": {},
   "outputs": [],
   "source": [
    "    class Dict(O, dict):\n",
    "        \"\"\">>> d = Json%'{\"a\": [1, {\"b\": [\"foo\", 3, \"bar\"]}]}'\n",
    "    >>> d\n",
    "    {'a': [1, {'b': ['foo', 3, 'bar']}]}\n",
    "    >>> d += {'/c': ['baz', None]}\n",
    "    >>> d\n",
    "    {'a': [1, {'b': ['foo', 3, 'bar']}], 'c': ['baz', None]}\n",
    "    >>> d - {'/a', '/c/1'}\n",
    "    {'c': ['baz']}\n",
    "    >>> (d + {'/g': 'testing'}) @ {'g': 'https://foo'}\n",
    "    [{'https://foo': [{'@value': 'testing'}]}]\n",
    "    >>> d = (d + {'/g': 'testing'}) & {'g': 'https://foo'}\n",
    "    >>> +d\n",
    "    [{'https://foo': [{'@value': 'testing'}]}]\n",
    "    \"\"\"\n",
    "    D = Dict\n"
   ]
  },
  {
   "cell_type": "code",
   "execution_count": 12,
   "metadata": {},
   "outputs": [],
   "source": [
    "    class Schema(D):\n",
    "        \"\"\">>> Schema({'type': 'string'})('asdf')\n",
    "    'asdf'\n",
    "    \n",
    "    >>> with __import__('pytest').raises(__import__('jsonschema').ValidationError): \n",
    "    ...     Schema({'type': 'string'})(1)\n",
    "    \"\"\"\n",
    "        def __call__(Schema, object):\n",
    "            __import__('jsonschema').validate(object, Schema)\n",
    "            return object"
   ]
  },
  {
   "cell_type": "code",
   "execution_count": 13,
   "metadata": {},
   "outputs": [],
   "source": [
    "    class Context(D):\n",
    "        \"\"\">>> context = Context({\"gh\": \"https://github.com\"})\n",
    "    >>> context@'gh'\n",
    "    'https://github.com'\n",
    "    >>> context@{'gh': 'deathbeds'}\n",
    "    [{'https://github.com': [{'@value': 'deathbeds'}]}]\n",
    "    \"\"\"\n",
    "\n",
    "        def __mod__(Context, object):\n",
    "            return D(__import__('pyld').jsonld.compact(object, Context))\n",
    "        \n",
    "        \n",
    "        def __matmul__(Context, object):\n",
    "            if isinstance(object, str):                \n",
    "                return Context.expand(object, Context)\n",
    "            object.update({'@context': Context.get('@context', Context)})\n",
    "            return L(__import__('pyld').jsonld.expand(object))\n",
    "        \n",
    "        __call__ = __matmul__\n",
    "\n",
    "        @staticmethod\n",
    "        def expand(str, ctx):\n",
    "            \"\"\">>> Context.expand(\"gh\", {\"gh\": \"https://github.com\"})\n",
    "    'https://github.com'\n",
    "    >>> Context.expand('q', {})\n",
    "    'q'\n",
    "    \"\"\"\n",
    "            object = __import__('pyld').jsonld.expand({str: '', '@context': ctx})\n",
    "            if object: return next(iter(object[0]))\n",
    "            return str"
   ]
  },
  {
   "cell_type": "code",
   "execution_count": 14,
   "metadata": {},
   "outputs": [],
   "source": [
    "    class Graphviz(J): \n",
    "        load = staticmethod(lambda str: __import__('graphviz').Source(str))\n",
    "            \n",
    "    G = Graphviz"
   ]
  },
  {
   "cell_type": "code",
   "execution_count": 15,
   "metadata": {},
   "outputs": [],
   "source": [
    "    class Yaml(J): \n",
    "        \"\"\">>> Y%'[a, b]'\n",
    "    ['a', 'b']\n",
    "    >>> y = Y%'{a: b}'\n",
    "    >>> y\n",
    "    {'a': 'b'}\n",
    "    >>> y += {'c': 1, 'd': 5}\n",
    "    >>> y\n",
    "    {'a': 'b', 'c': 1, 'd': 5}\n",
    "    >>> y - {'c': None}\n",
    "    {'a': 'b', 'd': 5}\n",
    "    >>> assert y == {'a': 'b', 'c': 1, 'd': 5}\n",
    "    >>> y -= {'c': None}\n",
    "    >>> y\n",
    "    {'a': 'b', 'd': 5}\n",
    "    >>> assert not y - \"a d\"\n",
    "    \"\"\"\n",
    "        @staticmethod\n",
    "        def load(str): \n",
    "            try: import ruamel.yaml as yaml\n",
    "            except: import yaml\n",
    "\n",
    "            return yaml.safe_load(io.StringIO(str))\n",
    "            \n",
    "    Y = Yaml"
   ]
  },
  {
   "cell_type": "code",
   "execution_count": 16,
   "metadata": {},
   "outputs": [],
   "source": [
    "    class Toml(J): \n",
    "        \"\"\">>> T%'title = \"TOML Example\"'\n",
    "    {'title': 'TOML Example'}\n",
    "    \"\"\"\n",
    "        @staticmethod\n",
    "        def load(str): return __import__('toml').loads(str)\n",
    "    T = Toml"
   ]
  },
  {
   "cell_type": "raw",
   "metadata": {},
   "source": [
    "    Csv%\"\"\"\\\n",
    "    add, patch add\n",
    "    sub, patch remove\n",
    "    truediv, patch replace\n",
    "    call, schema validate\n",
    "    or, diff\n",
    "    and, inline context\n",
    "    \"\"\""
   ]
  },
  {
   "cell_type": "code",
   "execution_count": 17,
   "metadata": {},
   "outputs": [
    {
     "data": {
      "image/svg+xml": [
       "<svg height=\"8pt\" viewBox=\"0.00 0.00 8.00 8.00\" width=\"8pt\" xmlns=\"http://www.w3.org/2000/svg\" xmlns:xlink=\"http://www.w3.org/1999/xlink\">\n",
       "<g class=\"graph\" id=\"graph0\" transform=\"scale(1 1) rotate(0) translate(4 4)\">\n",
       "<title>classes</title>\n",
       "<polygon fill=\"white\" points=\"-4,4 -4,-4 4,-4 4,4 -4,4\" stroke=\"none\"/>\n",
       "</g>\n",
       "</svg>"
      ],
      "text/plain": [
       "<IPython.core.display.SVG object>"
      ]
     },
     "metadata": {},
     "output_type": "display_data"
    }
   ],
   "source": [
    "    if __name__ == '__main__':\n",
    "        import pidgin, nbconvert, black, IPython\n",
    "        display = IPython.display.display\n",
    "        with open('jason.py', 'w') as f:\n",
    "            f.write(black.format_str(nbconvert.PythonExporter(config={\n",
    "                'TemplateExporter': {'exclude_input_prompt': True}\n",
    "            }, preprocessors=[pidgin.publishing.TanglePreProcessor()]).from_filename('jason.ipynb')[0], mode=black.FileMode()))\n",
    "            if 0:\n",
    "                with IPython.utils.capture.capture_output(stderr=False, stdout=False):\n",
    "                    !pyreverse --show-builtin  --module-names=y -osvg jason \n",
    "            display(IPython.display.SVG('classes.svg'))\n",
    "            with IPython.utils.capture.capture_output():\n",
    "                !isort jason.py\n",
    "        if 10:\n",
    "            !pyflakes jason.py\n",
    "        __import__('doctest').testmod()"
   ]
  },
  {
   "cell_type": "markdown",
   "metadata": {},
   "source": [
    "https://mybinder.org/v2/gh/deathbeds/ypp/a4c56e9a3a761b32cb3c9d5b630f22f4a216dd67?filepath=examples.ipynb"
   ]
  },
  {
   "cell_type": "code",
   "execution_count": null,
   "metadata": {},
   "outputs": [],
   "source": []
  },
  {
   "cell_type": "code",
   "execution_count": null,
   "metadata": {},
   "outputs": [],
   "source": []
  },
  {
   "cell_type": "code",
   "execution_count": null,
   "metadata": {},
   "outputs": [],
   "source": []
  },
  {
   "cell_type": "code",
   "execution_count": null,
   "metadata": {},
   "outputs": [],
   "source": []
  }
 ],
 "metadata": {
  "kernelspec": {
   "display_name": "p6",
   "language": "python",
   "name": "p6"
  },
  "language_info": {
   "codemirror_mode": {
    "name": "ipython",
    "version": 3
   },
   "file_extension": ".py",
   "mimetype": "text/x-python",
   "name": "python",
   "nbconvert_exporter": "python",
   "pygments_lexer": "ipython3",
   "version": "3.6.8"
  }
 },
 "nbformat": 4,
 "nbformat_minor": 2
}
