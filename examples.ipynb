{
 "cells": [
  {
   "cell_type": "code",
   "execution_count": 1,
   "metadata": {},
   "outputs": [],
   "source": [
    "    %reload_ext ypp\n",
    "    import ypp\n",
    "    import sympy, pandas, sklearn.datasets, ipywidgets, IPython\n",
    "    sympy.init_printing()\n",
    "    %matplotlib inline"
   ]
  },
  {
   "cell_type": "code",
   "execution_count": 2,
   "metadata": {},
   "outputs": [],
   "source": [
    "    iris = sklearn.datasets.load_iris()"
   ]
  },
  {
   "cell_type": "code",
   "execution_count": 3,
   "metadata": {},
   "outputs": [],
   "source": [
    "    df = pandas.DataFrame(iris.data, pandas.CategoricalIndex(iris.target, name='target'), iris.feature_names)"
   ]
  },
  {
   "cell_type": "code",
   "execution_count": 4,
   "metadata": {},
   "outputs": [
    {
     "data": {
      "application/vnd.jupyter.widget-view+json": {
       "model_id": "a817b72ed86f4f59b78521b4d3f28331",
       "version_major": 2,
       "version_minor": 0
      },
      "text/plain": [
       "ypp(children=(SelectionSlider(index=1, options=('normal', 'embedded', 'dockable'), value='embedded'), Output()…"
      ]
     },
     "metadata": {},
     "output_type": "display_data"
    }
   ],
   "source": [
    "    %%ypp df\n",
    "        df.sample(2)"
   ]
  },
  {
   "cell_type": "code",
   "execution_count": 5,
   "metadata": {},
   "outputs": [],
   "source": [
    "    import sklearn.discriminant_analysis, sklearn.tree, sklearn.model_selection"
   ]
  },
  {
   "cell_type": "code",
   "execution_count": 6,
   "metadata": {},
   "outputs": [
    {
     "data": {
      "application/vnd.jupyter.widget-view+json": {
       "model_id": "7b28f923a5d94efeb4b0a947856e481b",
       "version_major": 2,
       "version_minor": 0
      },
      "text/plain": [
       "ypp(children=(SelectionSlider(index=1, options=('normal', 'embedded', 'dockable'), value='embedded'), Output()…"
      ]
     },
     "metadata": {},
     "output_type": "display_data"
    }
   ],
   "source": [
    "    model_name: ipywidgets.SelectionSlider(options=['lda', 'decision tree']) = 'lda'\n",
    "    %ypp model_name"
   ]
  },
  {
   "cell_type": "code",
   "execution_count": 7,
   "metadata": {},
   "outputs": [
    {
     "data": {
      "application/vnd.jupyter.widget-view+json": {
       "model_id": "deca5e7c2a084f50bd2337923bc1d3ac",
       "version_major": 2,
       "version_minor": 0
      },
      "text/plain": [
       "ypp(children=(SelectionSlider(index=1, options=('normal', 'embedded', 'dockable'), value='embedded'), Output()…"
      ]
     },
     "metadata": {},
     "output_type": "display_data"
    }
   ],
   "source": [
    "    %%ypp model_name\n",
    "        model = {\n",
    "            'lda': sklearn.discriminant_analysis.LinearDiscriminantAnalysis(),\n",
    "            'decision tree': sklearn.tree.DecisionTreeClassifier()\n",
    "        }[model_name]\n",
    "        test, train = next(sklearn.model_selection.KFold(2).split(df.index))\n",
    "        model.fit(df.iloc[test], df.iloc[test].index)\n",
    "        classified = df.iloc[train].set_index(pandas.Index(model.predict(df.iloc[train]), name = 'predicted'), append=True)\n",
    "        IPython.display.display(IPython.display.Markdown(F\"Predicted with a {model_name}\"), classified.sample(4))"
   ]
  },
  {
   "cell_type": "code",
   "execution_count": 11,
   "metadata": {},
   "outputs": [],
   "source": [
    "    t, ω = sympy.symbols('t ω')\n",
    "    wavelength: (-10, 10, .5) = 1\n",
    "    f = sympy.cos(ω*t)\n",
    "    limit: (1, 100, 1) = 50"
   ]
  },
  {
   "cell_type": "code",
   "execution_count": 12,
   "metadata": {},
   "outputs": [
    {
     "data": {
      "application/vnd.jupyter.widget-view+json": {
       "model_id": "2da2d6e6f7854a698289241cee37a6ba",
       "version_major": 2,
       "version_minor": 0
      },
      "text/plain": [
       "ypp(children=(SelectionSlider(index=1, options=('normal', 'embedded', 'dockable'), value='embedded'), Output()…"
      ]
     },
     "metadata": {},
     "output_type": "display_data"
    }
   ],
   "source": [
    "    %%ypp f wavelength limit\n",
    "        sympy.plot(f.subs({'ω': wavelength}), (t, -limit, limit))"
   ]
  },
  {
   "cell_type": "code",
   "execution_count": 13,
   "metadata": {},
   "outputs": [],
   "source": [
    "    f = sympy.sin(ω*t)    "
   ]
  },
  {
   "cell_type": "code",
   "execution_count": 14,
   "metadata": {},
   "outputs": [],
   "source": [
    "    f = t**2*ω"
   ]
  },
  {
   "cell_type": "code",
   "execution_count": 15,
   "metadata": {},
   "outputs": [],
   "source": [
    "    f = t**3*ω"
   ]
  },
  {
   "cell_type": "code",
   "execution_count": null,
   "metadata": {},
   "outputs": [],
   "source": []
  }
 ],
 "metadata": {
  "kernelspec": {
   "display_name": "p6",
   "language": "python",
   "name": "p6"
  },
  "language_info": {
   "codemirror_mode": {
    "name": "ipython",
    "version": 3
   },
   "file_extension": ".py",
   "mimetype": "text/x-python",
   "name": "python",
   "nbconvert_exporter": "python",
   "pygments_lexer": "ipython3",
   "version": "3.6.8"
  }
 },
 "nbformat": 4,
 "nbformat_minor": 2
}
