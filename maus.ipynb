{
 "cells": [
  {
   "cell_type": "code",
   "execution_count": 10,
   "metadata": {},
   "outputs": [],
   "source": [
    "    import svgwrite"
   ]
  },
  {
   "cell_type": "code",
   "execution_count": 136,
   "metadata": {},
   "outputs": [],
   "source": [
    "    import flexx.pyscript\n",
    "    import traitlets, IPython, mistune\n",
    "    import inspect\n",
    "    import textwrap\n",
    "    import collections\n",
    "    import inspect, abc, sys\n",
    "\n",
    "    class Maus(abc.ABCMeta):        \n",
    "        def __call__(Maus, object=None):\n",
    "            if isinstance(object, str):\n",
    "                object = mistune.markdown(object)\n",
    "                start, sep, end = object.partition('>')\n",
    "                return IPython.display.HTML(F\"{start} {str(Maus)}{sep}{end}\")\n",
    "            if 'vdom' in sys.modules and isinstance(object, __import__('vdom').VDOM):\n",
    "                kwargs = object.to_dict()\n",
    "                kwargs['attributes'] = kwargs.get('attributes', {})\n",
    "                kwargs['attributes'].update(Maus.to_dict())\n",
    "                tagName = kwargs.pop('tagName')\n",
    "                return vdom.VDOM(tagName, **kwargs)\n",
    "            if 'svgwrite' in sys.modules and isinstance(object, svgwrite.base.BaseElement):\n",
    "                object.update(Maus.to_dict(True))\n",
    "                return object\n",
    "            if 'bs4' in sys.modules and isinstance(object, __import__('bs4').element.Tag):\n",
    "                object.attrs.update(Maus.to_dict(True))\n",
    "                return object\n",
    "        \n",
    "        def dispatch(Maus, object):\n",
    "            if callable(object): object = flexx.pyscript.py2js(textwrap.dedent('\\n'.join(inspect.getsource(object).splitlines()[1:])))\n",
    "            return object\n",
    "\n",
    "        def to_dict(self, dispatch=False, **data):\n",
    "            for key in (x for x in dir(self) if x not in dir(MausInstance)):\n",
    "                data[key] = getattr(self, key)\n",
    "                if dispatch: data[key] = self.dispatch(data[key])\n",
    "            data.update({F'data-{key}': value for key, value in getattr(self, 'data', {}).items()})\n",
    "            return data\n",
    "            \n",
    "        def __str__(self):\n",
    "            return \" \".join(F'{key}=\"{value}\"' for key, value in self.to_dict(True).items())\n",
    "    maus = {'metaclass': Maus}\n",
    "    class MausInstance(**maus): ..."
   ]
  },
  {
   "cell_type": "code",
   "execution_count": null,
   "metadata": {},
   "outputs": [],
   "source": []
  }
 ],
 "metadata": {
  "kernelspec": {
   "display_name": "p6",
   "language": "python",
   "name": "other-env"
  },
  "language_info": {
   "codemirror_mode": {
    "name": "ipython",
    "version": 3
   },
   "file_extension": ".py",
   "mimetype": "text/x-python",
   "name": "python",
   "nbconvert_exporter": "python",
   "pygments_lexer": "ipython3",
   "version": "3.6.8"
  },
  "varInspector": {
   "cols": {
    "lenName": 16,
    "lenType": 16,
    "lenVar": 40
   },
   "kernels_config": {
    "python": {
     "delete_cmd_postfix": "",
     "delete_cmd_prefix": "del ",
     "library": "var_list.py",
     "varRefreshCmd": "print(var_dic_list())"
    },
    "r": {
     "delete_cmd_postfix": ") ",
     "delete_cmd_prefix": "rm(",
     "library": "var_list.r",
     "varRefreshCmd": "cat(var_dic_list()) "
    }
   },
   "types_to_exclude": [
    "module",
    "function",
    "builtin_function_or_method",
    "instance",
    "_Feature"
   ],
   "window_display": false
  }
 },
 "nbformat": 4,
 "nbformat_minor": 2
}
